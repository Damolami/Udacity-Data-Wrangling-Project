{
 "cells": [
  {
   "cell_type": "markdown",
   "id": "7b3ece51",
   "metadata": {},
   "source": [
    "#                 Wrangle report :For @WeRateDogs_rates data"
   ]
  },
  {
   "cell_type": "markdown",
   "id": "9a376efe",
   "metadata": {},
   "source": [
    "* Firstly, I imported all the needed libraries into my jupyter notebook, read the first data from a csv file” twitter-archive-enhanced.csv” into a data frame ‘t_archive’, using the requests library I save the prediction data set into a .tsv file,read then to a second data frame ‘t_image’. The third data set I used was gotten from WE RATE DOG twitter page which needed to be assessed through twitter ,I connect Twitter API to download json format text file and use pandas to read into data frame as ‘r_json’ then extracted three columns need for my analysis."
   ]
  },
  {
   "cell_type": "markdown",
   "id": "a255f71a",
   "metadata": {},
   "source": [
    "## Assessing Data:"
   ]
  },
  {
   "cell_type": "markdown",
   "id": "7fa1bb7d",
   "metadata": {},
   "source": [
    "#### Here I assessed all my three data frames both Programmatic assessment and visual assessment.\n",
    "\n",
    "* The twitter enhanced data set: the data set contains 2354 rows and 17 columns\n",
    "* The image predictions data set: the data set contained 2075 row and 12 columns\n",
    "* The additional Data via the Twitter API"
   ]
  },
  {
   "cell_type": "markdown",
   "id": "a694b3fb",
   "metadata": {},
   "source": [
    "## Assessment issues:"
   ]
  },
  {
   "cell_type": "markdown",
   "id": "f9e8ace2",
   "metadata": {},
   "source": [
    "* Not all column are needed for this analysis which needs to be droped\n",
    "* The denominator of the ratings should not be 0.\n",
    "* The doggo,floofer,pupper,and puppo should be a single column and a category type of data\n",
    "* The \"retweeted_status_id,in_reply_to_status_id\" column have lot of null values\n",
    "* The name column has lot of undefined values\n",
    "* Timestamp is datetime instead of string and the timestamp later than August 1st, 2017 should be removed.\n",
    "* Some images and false and are not dogs\n",
    "* The url has duplicated links\n",
    "* the id columns is not the same with other values"
   ]
  },
  {
   "cell_type": "markdown",
   "id": "1808ff35",
   "metadata": {},
   "source": [
    "### Cleaning data: Before cleaning I made copies of each of my data frame"
   ]
  },
  {
   "cell_type": "markdown",
   "id": "81e3b037",
   "metadata": {},
   "source": [
    "## Quality issues AND Tidiness issue"
   ]
  },
  {
   "cell_type": "markdown",
   "id": "26824267",
   "metadata": {},
   "source": [
    "####  Twitter archive table:"
   ]
  },
  {
   "cell_type": "markdown",
   "id": "1be77d71",
   "metadata": {},
   "source": [
    "* Here for the enhanced data set I dropped the columns in the retweet_ and reply_ columns\n",
    "  that are not original tweet this are tweet that have values in them which made the column\n",
    "  empty.\n",
    "* Dropped columns that are not needed for my analysis which are in_reply_to_status_id,\n",
    "* in_reply_to_user_id, retweeted_status_id, retweeted_status_user_id,retweeted_status_timestamp, expanded_urls\n",
    "* Changed data types then created a single column for all the dog stages\n",
    "* Cleaned the ratings column into one and used ‘/’ as the delimiter\n",
    "* Since the name column contain may words that are undefined, cleaned the undefined words into null"
   ]
  },
  {
   "cell_type": "markdown",
   "id": "2150dc63",
   "metadata": {},
   "source": [
    "#### image prediction:"
   ]
  },
  {
   "cell_type": "markdown",
   "id": "b04295d8",
   "metadata": {},
   "source": [
    "*  Here I removed all the p images that are false which mean the row do not contain any dog image. For my tidiness I extracted the highest confidence level for the p1,p2,p3 which are true along with their corresponding breed name into a new column using the np.select() statement and dropped the old columns.\n"
   ]
  },
  {
   "cell_type": "markdown",
   "id": "1064f81c",
   "metadata": {},
   "source": [
    "#### Additional Data via the Twitter API table:"
   ]
  },
  {
   "cell_type": "markdown",
   "id": "a46284fd",
   "metadata": {},
   "source": [
    "* Changed the id name to tweet_id to make my merging possible."
   ]
  },
  {
   "cell_type": "markdown",
   "id": "f34dcb62",
   "metadata": {},
   "source": [
    "###### For my final cleaning I merged all the data set into a single master table and dropped empty columns.It contained 2088 row and 15 columns."
   ]
  }
 ],
 "metadata": {
  "kernelspec": {
   "display_name": "Python 3 (ipykernel)",
   "language": "python",
   "name": "python3"
  },
  "language_info": {
   "codemirror_mode": {
    "name": "ipython",
    "version": 3
   },
   "file_extension": ".py",
   "mimetype": "text/x-python",
   "name": "python",
   "nbconvert_exporter": "python",
   "pygments_lexer": "ipython3",
   "version": "3.9.12"
  }
 },
 "nbformat": 4,
 "nbformat_minor": 5
}
